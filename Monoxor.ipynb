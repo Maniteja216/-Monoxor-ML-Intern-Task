{
 "cells": [
  {
   "cell_type": "code",
   "execution_count": 1,
   "metadata": {},
   "outputs": [],
   "source": [
    "#Import libraries\n",
    "import json\n",
    "import requests\n",
    "import pandas as pd\n",
    "import numpy as np\n",
    "import matplotlib.pyplot as plt\n",
    "import os\n",
    "import seaborn as sns"
   ]
  },
  {
   "cell_type": "code",
   "execution_count": 2,
   "metadata": {},
   "outputs": [],
   "source": [
    "#Scrape the data and store the file\n",
    "request= requests.get(\"https://jsonblob.com/f0b70eef-566b-11eb-9d92-415b3ac53928\")\n",
    "request_text=request.text\n",
    "#data=json.loads(request_text, encoding='utf-8', strict=False)\n",
    "data_seralized= json.dump(request_text, open('data.json', \"w\"),indent=4)"
   ]
  },
  {
   "cell_type": "markdown",
   "metadata": {},
   "source": [
    "# I am covert the Json data to csv format using online\n",
    "\n",
    "    Url:-https://apps.thejeshgn.com/json-csv/# "
   ]
  },
  {
   "cell_type": "code",
   "execution_count": 10,
   "metadata": {},
   "outputs": [
    {
     "data": {
      "text/html": [
       "<div>\n",
       "<style scoped>\n",
       "    .dataframe tbody tr th:only-of-type {\n",
       "        vertical-align: middle;\n",
       "    }\n",
       "\n",
       "    .dataframe tbody tr th {\n",
       "        vertical-align: top;\n",
       "    }\n",
       "\n",
       "    .dataframe thead th {\n",
       "        text-align: right;\n",
       "    }\n",
       "</style>\n",
       "<table border=\"1\" class=\"dataframe\">\n",
       "  <thead>\n",
       "    <tr style=\"text-align: right;\">\n",
       "      <th></th>\n",
       "      <th>req/baseUrl</th>\n",
       "      <th>req/body/note/title</th>\n",
       "      <th>req/body/note/desc</th>\n",
       "      <th>req/fresh</th>\n",
       "      <th>req/headers/host</th>\n",
       "      <th>req/headers/user-agent</th>\n",
       "      <th>req/headers/content-type</th>\n",
       "      <th>req/headers/org_id</th>\n",
       "      <th>req/headers/user_session_id</th>\n",
       "      <th>req/headers/accept</th>\n",
       "      <th>...</th>\n",
       "      <th>req/hostname</th>\n",
       "      <th>req/ip</th>\n",
       "      <th>req/originalUrl</th>\n",
       "      <th>req/path</th>\n",
       "      <th>req/protocol</th>\n",
       "      <th>req/secure</th>\n",
       "      <th>req/stale</th>\n",
       "      <th>req/subdomains/0</th>\n",
       "      <th>req/xhr</th>\n",
       "      <th>isSafe</th>\n",
       "    </tr>\n",
       "  </thead>\n",
       "  <tbody>\n",
       "    <tr>\n",
       "      <th>0</th>\n",
       "      <td>/crm/note</td>\n",
       "      <td>Tina Johnson</td>\n",
       "      <td>Top recognize eat. Fact whom spend area thing ...</td>\n",
       "      <td>False</td>\n",
       "      <td>example.com</td>\n",
       "      <td>insomnia/2020.4.2</td>\n",
       "      <td>application/json</td>\n",
       "      <td>5f572820f65af8ac955b2e83</td>\n",
       "      <td>5fb27d3750b11901a35649fe</td>\n",
       "      <td>*/*</td>\n",
       "      <td>...</td>\n",
       "      <td>example.com</td>\n",
       "      <td>::ffff:117.99.96.244</td>\n",
       "      <td>/crm/note</td>\n",
       "      <td>/note</td>\n",
       "      <td>http</td>\n",
       "      <td>False</td>\n",
       "      <td>True</td>\n",
       "      <td>crm</td>\n",
       "      <td>False</td>\n",
       "      <td>True</td>\n",
       "    </tr>\n",
       "    <tr>\n",
       "      <th>1</th>\n",
       "      <td>/crm/note</td>\n",
       "      <td>Clayton Cooper</td>\n",
       "      <td>As possible American many prepare four strong....</td>\n",
       "      <td>False</td>\n",
       "      <td>example.com</td>\n",
       "      <td>insomnia/2020.4.2</td>\n",
       "      <td>application/json</td>\n",
       "      <td>5f572820f65af8ac955b2e83</td>\n",
       "      <td>5fb27d3750b11901a35649fe</td>\n",
       "      <td>*/*</td>\n",
       "      <td>...</td>\n",
       "      <td>example.com</td>\n",
       "      <td>::ffff:117.99.96.244</td>\n",
       "      <td>/crm/note</td>\n",
       "      <td>/note</td>\n",
       "      <td>http</td>\n",
       "      <td>False</td>\n",
       "      <td>True</td>\n",
       "      <td>crm</td>\n",
       "      <td>False</td>\n",
       "      <td>True</td>\n",
       "    </tr>\n",
       "    <tr>\n",
       "      <th>2</th>\n",
       "      <td>/crm/note</td>\n",
       "      <td>Curtis Wolfe</td>\n",
       "      <td>Tuesday Notes or 2 like 2 XSP Class</td>\n",
       "      <td>False</td>\n",
       "      <td>example.com</td>\n",
       "      <td>insomnia/2020.4.2</td>\n",
       "      <td>application/json</td>\n",
       "      <td>5f572820f65af8ac955b2e83</td>\n",
       "      <td>5fb27d3750b11901a35649fe</td>\n",
       "      <td>*/*</td>\n",
       "      <td>...</td>\n",
       "      <td>example.com</td>\n",
       "      <td>::ffff:117.99.96.244</td>\n",
       "      <td>/crm/note</td>\n",
       "      <td>/note</td>\n",
       "      <td>http</td>\n",
       "      <td>False</td>\n",
       "      <td>True</td>\n",
       "      <td>crm</td>\n",
       "      <td>False</td>\n",
       "      <td>False</td>\n",
       "    </tr>\n",
       "    <tr>\n",
       "      <th>3</th>\n",
       "      <td>/crm/note</td>\n",
       "      <td>Laura Fisher</td>\n",
       "      <td>State third represent energy campaign not forg...</td>\n",
       "      <td>False</td>\n",
       "      <td>example.com</td>\n",
       "      <td>insomnia/2020.4.2</td>\n",
       "      <td>application/json</td>\n",
       "      <td>5f572820f65af8ac955b2e83</td>\n",
       "      <td>5fb27d3750b11901a35649fe</td>\n",
       "      <td>*/*</td>\n",
       "      <td>...</td>\n",
       "      <td>example.com</td>\n",
       "      <td>::ffff:117.99.96.244</td>\n",
       "      <td>/crm/note</td>\n",
       "      <td>/note</td>\n",
       "      <td>http</td>\n",
       "      <td>False</td>\n",
       "      <td>True</td>\n",
       "      <td>crm</td>\n",
       "      <td>False</td>\n",
       "      <td>True</td>\n",
       "    </tr>\n",
       "    <tr>\n",
       "      <th>4</th>\n",
       "      <td>/crm/note</td>\n",
       "      <td>Tyler Santos</td>\n",
       "      <td>Us enjoy since. Time identify image position o...</td>\n",
       "      <td>False</td>\n",
       "      <td>example.com</td>\n",
       "      <td>insomnia/2020.4.2</td>\n",
       "      <td>application/json</td>\n",
       "      <td>5f572820f65af8ac955b2e83</td>\n",
       "      <td>5fb27d3750b11901a35649fe</td>\n",
       "      <td>*/*</td>\n",
       "      <td>...</td>\n",
       "      <td>example.com</td>\n",
       "      <td>::ffff:117.99.96.244</td>\n",
       "      <td>/crm/note</td>\n",
       "      <td>/note</td>\n",
       "      <td>http</td>\n",
       "      <td>False</td>\n",
       "      <td>True</td>\n",
       "      <td>crm</td>\n",
       "      <td>False</td>\n",
       "      <td>False</td>\n",
       "    </tr>\n",
       "  </tbody>\n",
       "</table>\n",
       "<p>5 rows × 23 columns</p>\n",
       "</div>"
      ],
      "text/plain": [
       "  req/baseUrl req/body/note/title  \\\n",
       "0   /crm/note        Tina Johnson   \n",
       "1   /crm/note      Clayton Cooper   \n",
       "2   /crm/note        Curtis Wolfe   \n",
       "3   /crm/note        Laura Fisher   \n",
       "4   /crm/note        Tyler Santos   \n",
       "\n",
       "                                  req/body/note/desc  req/fresh  \\\n",
       "0  Top recognize eat. Fact whom spend area thing ...      False   \n",
       "1  As possible American many prepare four strong....      False   \n",
       "2                Tuesday Notes or 2 like 2 XSP Class      False   \n",
       "3  State third represent energy campaign not forg...      False   \n",
       "4  Us enjoy since. Time identify image position o...      False   \n",
       "\n",
       "  req/headers/host req/headers/user-agent req/headers/content-type  \\\n",
       "0      example.com      insomnia/2020.4.2         application/json   \n",
       "1      example.com      insomnia/2020.4.2         application/json   \n",
       "2      example.com      insomnia/2020.4.2         application/json   \n",
       "3      example.com      insomnia/2020.4.2         application/json   \n",
       "4      example.com      insomnia/2020.4.2         application/json   \n",
       "\n",
       "         req/headers/org_id req/headers/user_session_id req/headers/accept  \\\n",
       "0  5f572820f65af8ac955b2e83    5fb27d3750b11901a35649fe                */*   \n",
       "1  5f572820f65af8ac955b2e83    5fb27d3750b11901a35649fe                */*   \n",
       "2  5f572820f65af8ac955b2e83    5fb27d3750b11901a35649fe                */*   \n",
       "3  5f572820f65af8ac955b2e83    5fb27d3750b11901a35649fe                */*   \n",
       "4  5f572820f65af8ac955b2e83    5fb27d3750b11901a35649fe                */*   \n",
       "\n",
       "   ...  req/hostname                req/ip req/originalUrl req/path  \\\n",
       "0  ...   example.com  ::ffff:117.99.96.244       /crm/note    /note   \n",
       "1  ...   example.com  ::ffff:117.99.96.244       /crm/note    /note   \n",
       "2  ...   example.com  ::ffff:117.99.96.244       /crm/note    /note   \n",
       "3  ...   example.com  ::ffff:117.99.96.244       /crm/note    /note   \n",
       "4  ...   example.com  ::ffff:117.99.96.244       /crm/note    /note   \n",
       "\n",
       "  req/protocol req/secure req/stale req/subdomains/0  req/xhr  isSafe  \n",
       "0         http      False      True              crm    False    True  \n",
       "1         http      False      True              crm    False    True  \n",
       "2         http      False      True              crm    False   False  \n",
       "3         http      False      True              crm    False    True  \n",
       "4         http      False      True              crm    False   False  \n",
       "\n",
       "[5 rows x 23 columns]"
      ]
     },
     "execution_count": 10,
     "metadata": {},
     "output_type": "execute_result"
    }
   ],
   "source": [
    "# Read the data from Local file\n",
    "os.chdir('C:\\\\Users\\\\Maniteja\\\\Downloads')\n",
    "df=pd.read_csv('result.csv', encoding='UTF-8')\n",
    "df.head()"
   ]
  },
  {
   "cell_type": "code",
   "execution_count": 31,
   "metadata": {},
   "outputs": [
    {
     "data": {
      "text/plain": [
       "(1000, 23)"
      ]
     },
     "execution_count": 31,
     "metadata": {},
     "output_type": "execute_result"
    }
   ],
   "source": [
    "df.shape"
   ]
  },
  {
   "cell_type": "code",
   "execution_count": 5,
   "metadata": {},
   "outputs": [
    {
     "data": {
      "text/html": [
       "<div>\n",
       "<style scoped>\n",
       "    .dataframe tbody tr th:only-of-type {\n",
       "        vertical-align: middle;\n",
       "    }\n",
       "\n",
       "    .dataframe tbody tr th {\n",
       "        vertical-align: top;\n",
       "    }\n",
       "\n",
       "    .dataframe thead th {\n",
       "        text-align: right;\n",
       "    }\n",
       "</style>\n",
       "<table border=\"1\" class=\"dataframe\">\n",
       "  <thead>\n",
       "    <tr style=\"text-align: right;\">\n",
       "      <th></th>\n",
       "      <th>req/headers/content-length</th>\n",
       "    </tr>\n",
       "  </thead>\n",
       "  <tbody>\n",
       "    <tr>\n",
       "      <th>count</th>\n",
       "      <td>1000.0</td>\n",
       "    </tr>\n",
       "    <tr>\n",
       "      <th>mean</th>\n",
       "      <td>70.0</td>\n",
       "    </tr>\n",
       "    <tr>\n",
       "      <th>std</th>\n",
       "      <td>0.0</td>\n",
       "    </tr>\n",
       "    <tr>\n",
       "      <th>min</th>\n",
       "      <td>70.0</td>\n",
       "    </tr>\n",
       "    <tr>\n",
       "      <th>25%</th>\n",
       "      <td>70.0</td>\n",
       "    </tr>\n",
       "    <tr>\n",
       "      <th>50%</th>\n",
       "      <td>70.0</td>\n",
       "    </tr>\n",
       "    <tr>\n",
       "      <th>75%</th>\n",
       "      <td>70.0</td>\n",
       "    </tr>\n",
       "    <tr>\n",
       "      <th>max</th>\n",
       "      <td>70.0</td>\n",
       "    </tr>\n",
       "  </tbody>\n",
       "</table>\n",
       "</div>"
      ],
      "text/plain": [
       "       req/headers/content-length\n",
       "count                      1000.0\n",
       "mean                         70.0\n",
       "std                           0.0\n",
       "min                          70.0\n",
       "25%                          70.0\n",
       "50%                          70.0\n",
       "75%                          70.0\n",
       "max                          70.0"
      ]
     },
     "execution_count": 5,
     "metadata": {},
     "output_type": "execute_result"
    }
   ],
   "source": [
    "df.describe()"
   ]
  },
  {
   "cell_type": "code",
   "execution_count": 6,
   "metadata": {},
   "outputs": [
    {
     "data": {
      "text/plain": [
       "req/baseUrl                    0\n",
       "req/body/note/title            0\n",
       "req/body/note/desc             0\n",
       "req/fresh                      0\n",
       "req/headers/host               0\n",
       "req/headers/user-agent         0\n",
       "req/headers/content-type       0\n",
       "req/headers/org_id             0\n",
       "req/headers/user_session_id    0\n",
       "req/headers/accept             0\n",
       "req/headers/content-length     0\n",
       "req/headers/user/name          0\n",
       "req/headers/user/role          0\n",
       "req/hostname                   0\n",
       "req/ip                         0\n",
       "req/originalUrl                0\n",
       "req/path                       0\n",
       "req/protocol                   0\n",
       "req/secure                     0\n",
       "req/stale                      0\n",
       "req/subdomains/0               0\n",
       "req/xhr                        0\n",
       "isSafe                         0\n",
       "dtype: int64"
      ]
     },
     "execution_count": 6,
     "metadata": {},
     "output_type": "execute_result"
    }
   ],
   "source": [
    "df.isnull().sum()"
   ]
  },
  {
   "cell_type": "code",
   "execution_count": 32,
   "metadata": {},
   "outputs": [],
   "source": [
    "X=df.iloc[:,:-1]\n",
    "y=df['isSafe']"
   ]
  },
  {
   "cell_type": "code",
   "execution_count": 29,
   "metadata": {},
   "outputs": [],
   "source": [
    "# perform the encoding\n",
    "X1=pd.get_dummies(X,drop_first=True)\n",
    "y1=pd.get_dummies(y,drop_first=True)"
   ]
  },
  {
   "cell_type": "code",
   "execution_count": 35,
   "metadata": {},
   "outputs": [
    {
     "name": "stderr",
     "output_type": "stream",
     "text": [
      "<ipython-input-35-dd73ac7128a3>:4: DataConversionWarning: A column-vector y was passed when a 1d array was expected. Please change the shape of y to (n_samples,), for example using ravel().\n",
      "  model.fit(X1,y1)\n"
     ]
    },
    {
     "data": {
      "text/plain": [
       "ExtraTreesClassifier()"
      ]
     },
     "execution_count": 35,
     "metadata": {},
     "output_type": "execute_result"
    }
   ],
   "source": [
    "# Feature Importance\n",
    "from sklearn.ensemble import ExtraTreesClassifier\n",
    "model=ExtraTreesClassifier()\n",
    "model.fit(X1,y1)"
   ]
  },
  {
   "cell_type": "code",
   "execution_count": 37,
   "metadata": {},
   "outputs": [
    {
     "name": "stdout",
     "output_type": "stream",
     "text": [
      "[0.         0.         0.         ... 0.0596109  0.05035364 0.05360207]\n"
     ]
    }
   ],
   "source": [
    "print(model.feature_importances_)"
   ]
  },
  {
   "cell_type": "code",
   "execution_count": 44,
   "metadata": {
    "scrolled": true
   },
   "outputs": [
    {
     "name": "stdout",
     "output_type": "stream",
     "text": [
      "req/body/note/desc_note title <title onPropertyChange title onPropertyChange=\"javascript:javascript:alert(1)\"></title onPropertyChange>    0.059611\n",
      "req/body/note/desc_Meeting \")) or ((\"x\"))=((\"x Notes 12:30                                                                                 0.055901\n",
      "req/body/note/desc_text1<video src=1 href=1 onerror=\"javascript:alert(1)\"></video>hello                                                    0.053602\n",
      "req/body/note/desc_notes --><!-- -->> <img src=xxx:x onerror=javascript:alert(1)> --> hello de                                             0.050354\n",
      "req/body/note/desc_admin\"/* your section of notes is going to be blank                                                                     0.050053\n",
      "req/body/note/desc_ext1%3Cvideo+src%3D1+href%3D1+onerror%3D%22javascript%3Aalert%281%29%22%3E%3C%2Fvideo%3E                                0.049594\n",
      "req/body/note/desc_<img src=1 href=1 onerror=\"javascript:alert(1)\"></img>                                                                  0.045743\n",
      "req/body/note/desc_Tuesday Notes or 2 like 2 XSP Class                                                                                     0.028137\n",
      "req/body/note/title_Paul Cook                                                                                                              0.003367\n",
      "req/body/note/title_Connie Clarke                                                                                                          0.003336\n",
      "req/body/note/title_Alexander Thomas                                                                                                       0.003333\n",
      "req/body/note/title_Clifford Foster                                                                                                        0.003317\n",
      "req/body/note/title_Maria Maldonado                                                                                                        0.003274\n",
      "req/body/note/title_Carrie Ingram                                                                                                          0.003273\n",
      "req/body/note/title_Jessica Hogan                                                                                                          0.003255\n",
      "req/body/note/title_Theresa Gamble                                                                                                         0.003250\n",
      "req/body/note/title_Courtney Neal                                                                                                          0.003247\n",
      "req/body/note/title_Kimberly Owen                                                                                                          0.003239\n",
      "req/body/note/title_Jennifer Yu                                                                                                            0.003235\n",
      "req/body/note/title_Erik Carr                                                                                                              0.003220\n",
      "dtype: float64\n"
     ]
    }
   ],
   "source": [
    "ranked_features=pd.Series(model.feature_importances_, index= X1.columns)\n",
    "print(ranked_features.nlargest(20))\n"
   ]
  },
  {
   "cell_type": "code",
   "execution_count": 50,
   "metadata": {},
   "outputs": [
    {
     "data": {
      "image/png": "[encoded data removed]",
      "text/plain": [
       "<Figure size 432x288 with 1 Axes>"
      ]
     },
     "metadata": {
      "needs_background": "light"
     },
     "output_type": "display_data"
    }
   ],
   "source": [
    "ranked_features.nlargest(20).plot(kind='barh')\n",
    "plt.show()"
   ]
  },
  {
   "cell_type": "code",
   "execution_count": 48,
   "metadata": {},
   "outputs": [],
   "source": [
    "# Spli the dataset\n",
    "from sklearn.model_selection import train_test_split\n",
    "X_train,X_test,y_train,y_test=train_test_split(X1,y1, test_size=0.3, random_state=0)"
   ]
  },
  {
   "cell_type": "code",
   "execution_count": 52,
   "metadata": {},
   "outputs": [
    {
     "name": "stderr",
     "output_type": "stream",
     "text": [
      "<ipython-input-52-c9e83a4a640b>:4: DataConversionWarning: A column-vector y was passed when a 1d array was expected. Please change the shape of y to (n_samples,), for example using ravel().\n",
      "  model1.fit(X_train,y_train)\n"
     ]
    },
    {
     "data": {
      "text/plain": [
       "RandomForestClassifier(random_state=10)"
      ]
     },
     "execution_count": 52,
     "metadata": {},
     "output_type": "execute_result"
    }
   ],
   "source": [
    "#Create the model\n",
    "from sklearn.ensemble import RandomForestClassifier\n",
    "model1=RandomForestClassifier(random_state=10)\n",
    "model1.fit(X_train,y_train)"
   ]
  },
  {
   "cell_type": "code",
   "execution_count": 54,
   "metadata": {},
   "outputs": [
    {
     "name": "stdout",
     "output_type": "stream",
     "text": [
      "0.81\n"
     ]
    }
   ],
   "source": [
    "predict=model1.predict(X_test)\n",
    "\n",
    "from sklearn import metrics\n",
    "\n",
    "accuracy=metrics.accuracy_score(y_test, predict)\n",
    "print(accuracy)"
   ]
  }
 ],
 "metadata": {
  "kernelspec": {
   "display_name": "Python 3",
   "language": "python",
   "name": "python3"
  },
  "language_info": {
   "codemirror_mode": {
    "name": "ipython",
    "version": 3
   },
   "file_extension": ".py",
   "mimetype": "text/x-python",
   "name": "python",
   "nbconvert_exporter": "python",
   "pygments_lexer": "ipython3",
   "version": "3.8.5"
  }
 },
 "nbformat": 4,
 "nbformat_minor": 4
}
